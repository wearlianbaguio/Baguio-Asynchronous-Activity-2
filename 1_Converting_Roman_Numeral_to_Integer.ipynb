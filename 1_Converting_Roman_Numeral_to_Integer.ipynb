{
  "nbformat": 4,
  "nbformat_minor": 0,
  "metadata": {
    "colab": {
      "provenance": [],
      "authorship_tag": "ABX9TyNnBej1KIP8KYR0KK5m7+Dy",
      "include_colab_link": true
    },
    "kernelspec": {
      "name": "python3",
      "display_name": "Python 3"
    },
    "language_info": {
      "name": "python"
    }
  },
  "cells": [
    {
      "cell_type": "markdown",
      "metadata": {
        "id": "view-in-github",
        "colab_type": "text"
      },
      "source": [
        "<a href=\"https://colab.research.google.com/github/wearlianbaguio/Baguio-Asynchronous-Activity-2/blob/main/1_Converting_Roman_Numeral_to_Integer.ipynb\" target=\"_parent\"><img src=\"https://colab.research.google.com/assets/colab-badge.svg\" alt=\"Open In Colab\"/></a>"
      ]
    },
    {
      "cell_type": "code",
      "execution_count": 1,
      "metadata": {
        "colab": {
          "base_uri": "https://localhost:8080/"
        },
        "id": "C7JcrN-Q2DVY",
        "outputId": "c1ef607c-5c17-4f0d-d058-3f8481c0b91c"
      },
      "outputs": [
        {
          "output_type": "stream",
          "name": "stdout",
          "text": [
            "Integer form of Roman Numeral is\n",
            "40\n"
          ]
        }
      ],
      "source": [
        "# Python program to convert Roman Numerals\n",
        "# to Numbers\n",
        "\n",
        "# This function returns value of each Roman symbol\n",
        "\n",
        "\n",
        "def value(r):\n",
        "    if (r == 'I'):\n",
        "        return 1\n",
        "    if (r == 'V'):\n",
        "        return 5\n",
        "    if (r == 'X'):\n",
        "        return 10\n",
        "    if (r == 'L'):\n",
        "        return 50\n",
        "    if (r == 'C'):\n",
        "        return 100\n",
        "    if (r == 'D'):\n",
        "        return 500\n",
        "    if (r == 'M'):\n",
        "        return 1000\n",
        "    return -1\n",
        "\n",
        "\n",
        "def romanToDecimal(str):\n",
        "    res = 0\n",
        "    i = 0\n",
        "\n",
        "    while (i < len(str)):\n",
        "\n",
        "        # Getting value of symbol s[i]\n",
        "        s1 = value(str[i])\n",
        "\n",
        "        if (i + 1 < len(str)):\n",
        "\n",
        "            # Getting value of symbol s[i + 1]\n",
        "            s2 = value(str[i + 1])\n",
        "\n",
        "            # Comparing both values\n",
        "            if (s1 >= s2):\n",
        "\n",
        "                # Value of current symbol is greater\n",
        "                # or equal to the next symbol\n",
        "                res = res + s1\n",
        "                i = i + 1\n",
        "            else:\n",
        "\n",
        "                # Value of current symbol is greater\n",
        "                # or equal to the next symbol\n",
        "                res = res + s2 - s1\n",
        "                i = i + 2\n",
        "        else:\n",
        "            res = res + s1\n",
        "            i = i + 1\n",
        "\n",
        "    return res\n",
        "\n",
        "\n",
        "# Driver code\n",
        "print(\"Integer form of Roman Numeral is\"),\n",
        "print(romanToDecimal(\"XL\"))"
      ]
    }
  ]
}