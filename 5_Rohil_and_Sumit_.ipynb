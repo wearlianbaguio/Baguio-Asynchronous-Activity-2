{
  "nbformat": 4,
  "nbformat_minor": 0,
  "metadata": {
    "colab": {
      "provenance": [],
      "authorship_tag": "ABX9TyMcYJnR71y88Cp0VykexKzd",
      "include_colab_link": true
    },
    "kernelspec": {
      "name": "python3",
      "display_name": "Python 3"
    },
    "language_info": {
      "name": "python"
    }
  },
  "cells": [
    {
      "cell_type": "markdown",
      "metadata": {
        "id": "view-in-github",
        "colab_type": "text"
      },
      "source": [
        "<a href=\"https://colab.research.google.com/github/wearlianbaguio/Baguio-Asynchronous-Activity-2/blob/main/5_Rohil_and_Sumit_.ipynb\" target=\"_parent\"><img src=\"https://colab.research.google.com/assets/colab-badge.svg\" alt=\"Open In Colab\"/></a>"
      ]
    },
    {
      "cell_type": "code",
      "execution_count": 6,
      "metadata": {
        "colab": {
          "base_uri": "https://localhost:8080/"
        },
        "id": "jj-pCbtDnvw8",
        "outputId": "aeb238dd-5ee7-4681-d69e-52abad168eab"
      },
      "outputs": [
        {
          "output_type": "stream",
          "name": "stdout",
          "text": [
            "6\n",
            "vinay\n",
            "vainy\n",
            "vinit\n",
            "viint\n",
            "avinash\n",
            "aasvinh\n",
            "3\n"
          ]
        }
      ],
      "source": [
        "N=int(input())\n",
        "s=[]\n",
        "s1=[]\n",
        "ans=[]\n",
        "s2=\"\"\n",
        "for i in range(N):\n",
        "    s.append(input())\n",
        "    s1.append(s[i])\n",
        "for j in s:\n",
        "v\n",
        "        s2=''.join(j[0])\n",
        "        k=''.join(sorted(j[1:len(j)-1]))\n",
        "        f=''.join(j[-1])\n",
        "        ans.append(s2+k+f)\n",
        "\n",
        "print(len(set(ans)))"
      ]
    }
  ]
}