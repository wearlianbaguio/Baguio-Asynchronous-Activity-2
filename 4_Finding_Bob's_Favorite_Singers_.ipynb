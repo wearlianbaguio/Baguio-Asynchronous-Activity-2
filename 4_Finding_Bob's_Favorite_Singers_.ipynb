{
  "nbformat": 4,
  "nbformat_minor": 0,
  "metadata": {
    "colab": {
      "provenance": [],
      "authorship_tag": "ABX9TyO8g8ibfrOPkbybsyaQFRcl",
      "include_colab_link": true
    },
    "kernelspec": {
      "name": "python3",
      "display_name": "Python 3"
    },
    "language_info": {
      "name": "python"
    }
  },
  "cells": [
    {
      "cell_type": "markdown",
      "metadata": {
        "id": "view-in-github",
        "colab_type": "text"
      },
      "source": [
        "<a href=\"https://colab.research.google.com/github/wearlianbaguio/Baguio-Asynchronous-Activity-2/blob/main/4_Finding_Bob's_Favorite_Singers_.ipynb\" target=\"_parent\"><img src=\"https://colab.research.google.com/assets/colab-badge.svg\" alt=\"Open In Colab\"/></a>"
      ]
    },
    {
      "cell_type": "code",
      "execution_count": 13,
      "metadata": {
        "id": "sJu3zYqQOR5B",
        "colab": {
          "base_uri": "https://localhost:8080/"
        },
        "outputId": "67b1a068-9bd6-4ba3-ca58-d96a39f65e8d"
      },
      "outputs": [
        {
          "output_type": "stream",
          "name": "stdout",
          "text": [
            "Enter the number of singers: 10 \n",
            "Enter the list of favorite singers: 1 1 2 2 4\n",
            "The count of favorite singers of Bob is 2\n"
          ]
        }
      ],
      "source": [
        "def main():\n",
        "    name = int(input(\"Enter the number of singers: \"))\n",
        "    singer_count = {}\n",
        "\n",
        "    singers = input(\"Enter the list of favorite singers: \").split()\n",
        "    for singer_str in singers:\n",
        "        singer = int(singer_str)\n",
        "        singer_count[singer] = singer_count.get(singer, 0) + 1\n",
        "\n",
        "    max_count = 0\n",
        "    for count in singer_count.values():\n",
        "        max_count = max(max_count, count)\n",
        "\n",
        "    favorite_singers_count = 0\n",
        "    for count in singer_count.values():\n",
        "        if max_count == count:\n",
        "            favorite_singers_count += 1\n",
        "\n",
        "    print(\"The count of favorite singers of Bob is\", favorite_singers_count)\n",
        "\n",
        "if __name__ == \"__main__\":\n",
        "    main()\n"
      ]
    }
  ]
}