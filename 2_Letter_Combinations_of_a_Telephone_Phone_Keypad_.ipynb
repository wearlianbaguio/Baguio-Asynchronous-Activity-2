{
  "nbformat": 4,
  "nbformat_minor": 0,
  "metadata": {
    "colab": {
      "provenance": [],
      "authorship_tag": "ABX9TyNzPs2GStWWxoFRktO3Qk+g",
      "include_colab_link": true
    },
    "kernelspec": {
      "name": "python3",
      "display_name": "Python 3"
    },
    "language_info": {
      "name": "python"
    }
  },
  "cells": [
    {
      "cell_type": "markdown",
      "metadata": {
        "id": "view-in-github",
        "colab_type": "text"
      },
      "source": [
        "<a href=\"https://colab.research.google.com/github/wearlianbaguio/Baguio-Asynchronous-Activity-2/blob/main/2_Letter_Combinations_of_a_Telephone_Phone_Keypad_.ipynb\" target=\"_parent\"><img src=\"https://colab.research.google.com/assets/colab-badge.svg\" alt=\"Open In Colab\"/></a>"
      ]
    },
    {
      "cell_type": "code",
      "execution_count": null,
      "metadata": {
        "colab": {
          "base_uri": "https://localhost:8080/"
        },
        "id": "zHcxp_hbC1Kd",
        "outputId": "1ae87ff9-21cb-4c7d-c286-ea49012d7252"
      },
      "outputs": [
        {
          "output_type": "stream",
          "name": "stdout",
          "text": [
            "Solution\"['pa', 'pb', 'pc', 'qa', 'qb', 'qc', 'ra', 'rb', 'rc', 'sa', 'sb', 'sc']\"\n"
          ]
        }
      ],
      "source": [
        "class Solution:\n",
        "\n",
        "    DIGITS_MAP = {\n",
        "        \"2\":\"abc\",\n",
        "        \"3\":\"def\",\n",
        "        \"4\":\"ghi\",\n",
        "        \"5\":\"jkl\",\n",
        "        \"6\":\"mno\",\n",
        "        \"7\":\"pqrs\",\n",
        "        \"8\":\"tuv\",\n",
        "        \"9\":\"wxyz\",\n",
        "    }\n",
        "\n",
        "    def letterCombinations(self, digits: str):\n",
        "        perms = []\n",
        "        for digit in digits:\n",
        "            perms = self.find_permutations(perms,list(self.DIGITS_MAP.get(digit)))\n",
        "        return perms\n",
        "\n",
        "    def find_permutations(self, str1, str2):\n",
        "        perms = []\n",
        "        for i in str1:\n",
        "            for j in str2:\n",
        "                perms.append(i+j)\n",
        "        if not perms:\n",
        "            return list(str1) if str1 else list(str2)\n",
        "        return perms\n",
        "\n",
        "print (\"Solution\\\"\"+str(Solution().letterCombinations(\"72\"))+\"\\\"\")"
      ]
    }
  ]
}